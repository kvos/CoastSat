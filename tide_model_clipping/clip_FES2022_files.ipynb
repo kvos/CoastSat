{
 "cells": [
  {
   "cell_type": "markdown",
   "metadata": {},
   "source": [
    "# Tide Clipping\n",
    "\n",
    "This script allows the user to clip the FES2022 global tidal model, to reduce loading times and resource usage when it is called"
   ]
  },
  {
   "cell_type": "code",
   "execution_count": null,
   "metadata": {},
   "outputs": [],
   "source": [
    "from coastsat import SDS_tools"
   ]
  }
 ],
 "metadata": {
  "language_info": {
   "name": "python"
  }
 },
 "nbformat": 4,
 "nbformat_minor": 2
}
